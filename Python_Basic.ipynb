{
  "nbformat": 4,
  "nbformat_minor": 0,
  "metadata": {
    "colab": {
      "provenance": []
    },
    "kernelspec": {
      "name": "python3",
      "display_name": "Python 3"
    },
    "language_info": {
      "name": "python"
    }
  },
  "cells": [
    {
      "cell_type": "markdown",
      "source": [
        "# Python Basic Assignment\n"
      ],
      "metadata": {
        "id": "0h_OICWYX3lO"
      }
    },
    {
      "cell_type": "markdown",
      "source": [
        "Question 1: What is Python, and why is it popular?\n",
        "  - Python is a programming language, and it is popular because it is easy to learn, versatile, and widely used in web development, data science, AI, and automation.\n",
        "\n",
        "Question 2: What is an interpreter in Python?\n",
        "  - An interpreter in Python is a program that executes Python code line by line, converting it into machine-readable instructions. It allows for quick testing and debugging without needing compilation.\n",
        "\n",
        "Question 3: What are pre-defined keywords in Python?\n",
        "  - Pre-defined keywords in Python are reserved words that have special meanings and cannot be used as variable names. Examples include if, else, while, for, def, return, and class.\n",
        "\n",
        "Question 4: Can keywords be used as variable names?\n",
        "  - No, keywords cannot be used as variable names in Python because they have predefined meanings and are reserved for specific tasks in the language.\n",
        "\n",
        "Question 5: What is mutability in Python?\n",
        "  - Mutability in Python refers to whether an object's value can be changed after it is created.\n",
        "\n",
        "Question 6: Why are lists mutable, but tuples are immutable?\n",
        "  - Lists are mutable because they allow modifications like adding, removing, or changing elements after creation. Tuples are immutable because they are designed for fixed data structures, ensuring data integrity and better performance.\n",
        "\n",
        "Question 7: What is the difference between “==” and “is” operators in Python?\n",
        "  - \"==\" checks if values of two variables are equal.\n",
        "\n",
        "  - \"is\" checks if two variables refer to the same memory location (identity check).\n",
        "\n",
        "Question 8: What are logical operators in Python?\n",
        "  - Logical operators in Python are and, or, and not, used for combining conditions. and requires both to be true, or needs at least one true, and not reverses the result.\n",
        "\n",
        "Question 9: What is type casting in Python?\n",
        "  - Type casting in Python is converting one data type into another, like int(), float(), or str(). Example: num = int(\"10\") converts a string to an integer.\n",
        "\n",
        "Question 10: What is the difference between implicit and explicit type casting?\n",
        "  - Implicit type casting happens automatically when Python converts a smaller data type to a larger one, like when adding an integer to a float (x = 5 + 2.5 results in 7.5). Explicit type casting requires manual conversion using functions like int(), float(), or str(), such as y = int(2.8), which converts 2.8 to 2.\n",
        "\n",
        "Question 11: What is the purpose of conditional statements in Python?\n",
        "  - he purpose of conditional statements in Python is to control the flow of execution based on conditions. They allow the program to make decisions using if, elif, and else statements. For example, if x > 10: print(\"Greater\") executes only if x is greater than 10.\n",
        "\n",
        "Question 12: How does the elif statement work?\n",
        "  - The elif statement in Python is used after an if statement to check multiple conditions sequentially. If the if condition is false, Python evaluates the elif conditions one by one until it finds a True condition. If none are true, the else block (if present) executes.\n",
        "\n",
        "Question 13: What is the difference between for and while loops?\n",
        "  - The for loop is used when the number of iterations is known, iterating over sequences like lists or ranges. The while loop runs as long as a condition is true, making it useful for unknown iteration counts.\n",
        "\n",
        "Question 14: Describe a scenario where a while loop is more suitable than a for loop.\n",
        "  - A while loop is more suitable when the number of iterations is unknown and depends on a condition. For example, in a user authentication system, where we keep asking for the correct password until the user enters it correctly.\n"
      ],
      "metadata": {
        "id": "6KPw8WNLX8s7"
      }
    },
    {
      "cell_type": "markdown",
      "source": [
        "Question 1: Write a Python program to print \"Hello, World!\""
      ],
      "metadata": {
        "id": "YMIMTUMbbP97"
      }
    },
    {
      "cell_type": "code",
      "source": [
        "print(\"Hello, World!\")"
      ],
      "metadata": {
        "colab": {
          "base_uri": "https://localhost:8080/"
        },
        "id": "emrqnpf9X0cp",
        "outputId": "1ba17a68-d315-47bb-f642-15cdb5a01d5b"
      },
      "execution_count": 4,
      "outputs": [
        {
          "output_type": "stream",
          "name": "stdout",
          "text": [
            "Hello, World!\n"
          ]
        }
      ]
    },
    {
      "cell_type": "markdown",
      "source": [
        "Question 2:  Write a Python program that displays your name and age.\n",
        "\n",
        "\n",
        "\n"
      ],
      "metadata": {
        "id": "b9aDAGwbbbvC"
      }
    },
    {
      "cell_type": "code",
      "source": [
        "name = \"Aditya Jain\"\n",
        "age = 22\n",
        "print(f\"My name is {name} and my age is {age}.\")"
      ],
      "metadata": {
        "colab": {
          "base_uri": "https://localhost:8080/"
        },
        "id": "NgeKtRC5bWEj",
        "outputId": "26ade585-5393-4641-ed5a-645e913923d8"
      },
      "execution_count": 6,
      "outputs": [
        {
          "output_type": "stream",
          "name": "stdout",
          "text": [
            "My name is Aditya Jain and my age is 22.\n"
          ]
        }
      ]
    },
    {
      "cell_type": "markdown",
      "source": [
        "Question 3: Write code to print all the pre-defined keywords in Python using the keyword library."
      ],
      "metadata": {
        "id": "byes5QiMbvax"
      }
    },
    {
      "cell_type": "code",
      "source": [
        "import keyword\n",
        "print(keyword.kwlist)"
      ],
      "metadata": {
        "colab": {
          "base_uri": "https://localhost:8080/"
        },
        "id": "QmsBETD3brDB",
        "outputId": "f03c5509-7383-4f30-9325-ead4974df8ab"
      },
      "execution_count": 7,
      "outputs": [
        {
          "output_type": "stream",
          "name": "stdout",
          "text": [
            "['False', 'None', 'True', 'and', 'as', 'assert', 'async', 'await', 'break', 'class', 'continue', 'def', 'del', 'elif', 'else', 'except', 'finally', 'for', 'from', 'global', 'if', 'import', 'in', 'is', 'lambda', 'nonlocal', 'not', 'or', 'pass', 'raise', 'return', 'try', 'while', 'with', 'yield']\n"
          ]
        }
      ]
    },
    {
      "cell_type": "markdown",
      "source": [
        "Question 4: Write a program that checks if a given word is a Python keyword."
      ],
      "metadata": {
        "id": "lTUjOSKvb_aJ"
      }
    },
    {
      "cell_type": "code",
      "source": [
        "import keyword\n",
        "keyword_list = keyword.kwlist\n",
        "input_word = input()\n",
        "if input_word in keyword_list:\n",
        "  print(\"Given word is a python keyword\")\n",
        "else:\n",
        "  print(\"Given word is not a python keyword\")"
      ],
      "metadata": {
        "colab": {
          "base_uri": "https://localhost:8080/"
        },
        "id": "hnbfn8Kzb8a6",
        "outputId": "7e4e026d-a87b-4ff4-83ac-762644d48851"
      },
      "execution_count": 13,
      "outputs": [
        {
          "output_type": "stream",
          "name": "stdout",
          "text": [
            "elif\n",
            "Given word is a python keyword\n"
          ]
        }
      ]
    },
    {
      "cell_type": "markdown",
      "source": [
        "Question 5: Create a list and tuple in Python, and demonstrate how attempting to change an element works differently for each."
      ],
      "metadata": {
        "id": "-uAY5GKpckMb"
      }
    },
    {
      "cell_type": "code",
      "source": [
        "list = [\"aditya\", \"pwskills\", 3, 5]\n",
        "tuple = (\"aditya\", \"pwskills\", 3, 5)\n",
        "list[0] = \"manav\"\n",
        "print(\"Modified list:\", list)\n",
        "tuple[0] = \"manav\"\n",
        "print(tuple)"
      ],
      "metadata": {
        "colab": {
          "base_uri": "https://localhost:8080/",
          "height": 216
        },
        "id": "0VComylmcE01",
        "outputId": "73397987-7a17-48aa-f19c-178eb561d541"
      },
      "execution_count": 17,
      "outputs": [
        {
          "output_type": "stream",
          "name": "stdout",
          "text": [
            "Modified list: ['manav', 'pwskills', 3, 5]\n"
          ]
        },
        {
          "output_type": "error",
          "ename": "TypeError",
          "evalue": "'tuple' object does not support item assignment",
          "traceback": [
            "\u001b[0;31m---------------------------------------------------------------------------\u001b[0m",
            "\u001b[0;31mTypeError\u001b[0m                                 Traceback (most recent call last)",
            "\u001b[0;32m<ipython-input-17-7bfcc59ef6fa>\u001b[0m in \u001b[0;36m<cell line: 0>\u001b[0;34m()\u001b[0m\n\u001b[1;32m      3\u001b[0m \u001b[0mlist\u001b[0m\u001b[0;34m[\u001b[0m\u001b[0;36m0\u001b[0m\u001b[0;34m]\u001b[0m \u001b[0;34m=\u001b[0m \u001b[0;34m\"manav\"\u001b[0m\u001b[0;34m\u001b[0m\u001b[0;34m\u001b[0m\u001b[0m\n\u001b[1;32m      4\u001b[0m \u001b[0mprint\u001b[0m\u001b[0;34m(\u001b[0m\u001b[0;34m\"Modified list:\"\u001b[0m\u001b[0;34m,\u001b[0m \u001b[0mlist\u001b[0m\u001b[0;34m)\u001b[0m\u001b[0;34m\u001b[0m\u001b[0;34m\u001b[0m\u001b[0m\n\u001b[0;32m----> 5\u001b[0;31m \u001b[0mtuple\u001b[0m\u001b[0;34m[\u001b[0m\u001b[0;36m0\u001b[0m\u001b[0;34m]\u001b[0m \u001b[0;34m=\u001b[0m \u001b[0;34m\"manav\"\u001b[0m\u001b[0;34m\u001b[0m\u001b[0;34m\u001b[0m\u001b[0m\n\u001b[0m\u001b[1;32m      6\u001b[0m \u001b[0mprint\u001b[0m\u001b[0;34m(\u001b[0m\u001b[0mtuple\u001b[0m\u001b[0;34m)\u001b[0m\u001b[0;34m\u001b[0m\u001b[0;34m\u001b[0m\u001b[0m\n",
            "\u001b[0;31mTypeError\u001b[0m: 'tuple' object does not support item assignment"
          ]
        }
      ]
    },
    {
      "cell_type": "markdown",
      "source": [
        "Question 6: Write a function to demonstrate the behavior of mutable and immutable arguments."
      ],
      "metadata": {
        "id": "YCzXy7W6dNTe"
      }
    },
    {
      "cell_type": "code",
      "source": [
        "def modify_values(num, lst):\n",
        "    num += 10  # Modifying an immutable integer\n",
        "    lst.append(4)  # Modifying a mutable list\n",
        "\n",
        "# Immutable argument (integer)\n",
        "x = 5\n",
        "# Mutable argument (list)\n",
        "y = [1, 2, 3]\n",
        "\n",
        "modify_values(x, y)\n",
        "\n",
        "print(\"Value of x (immutable):\", x)  # Remains 5\n",
        "print(\"Value of y (mutable):\", y)  # Modified to [1, 2, 3, 4]\n"
      ],
      "metadata": {
        "colab": {
          "base_uri": "https://localhost:8080/"
        },
        "id": "ANQsniTUc1mr",
        "outputId": "d8a79674-f972-41b0-95c9-0c73fef74dd2"
      },
      "execution_count": 18,
      "outputs": [
        {
          "output_type": "stream",
          "name": "stdout",
          "text": [
            "Value of x (immutable): 5\n",
            "Value of y (mutable): [1, 2, 3, 4]\n"
          ]
        }
      ]
    },
    {
      "cell_type": "markdown",
      "source": [
        "Question 7: Write a program that performs basic arithmetic operations on two user-input numbers."
      ],
      "metadata": {
        "id": "TTk0FTuKePcA"
      }
    },
    {
      "cell_type": "code",
      "source": [
        "# Taking user input as integers\n",
        "num1 = int(input(\"Enter first number: \"))\n",
        "num2 = int(input(\"Enter second number: \"))\n",
        "\n",
        "# Performing arithmetic operations\n",
        "print(\"Addition:\", num1 + num2)\n",
        "print(\"Subtraction:\", num1 - num2)\n",
        "print(\"Multiplication:\", num1 * num2)\n",
        "print(\"Division:\", num1 / num2 if num2 != 0 else \"Undefined (division by zero)\")\n"
      ],
      "metadata": {
        "colab": {
          "base_uri": "https://localhost:8080/"
        },
        "id": "xm7yK7x0eB7b",
        "outputId": "c9dbc821-e11b-4774-97e4-12d81661e625"
      },
      "execution_count": 22,
      "outputs": [
        {
          "output_type": "stream",
          "name": "stdout",
          "text": [
            "Enter first number: 10\n",
            "Enter second number: 5\n",
            "Addition: 15\n",
            "Subtraction: 5\n",
            "Multiplication: 50\n",
            "Division: 2.0\n"
          ]
        }
      ]
    },
    {
      "cell_type": "markdown",
      "source": [
        "Question 8: Write a program to demonstrate the use of logical operators."
      ],
      "metadata": {
        "id": "0v3CxEKUfIvH"
      }
    },
    {
      "cell_type": "code",
      "source": [
        "x = 10\n",
        "y = 5\n",
        "\n",
        "if x > 5 and y < 10:\n",
        "    print(\"Both conditions are True\")\n",
        "\n",
        "if x > 15 or y < 10:\n",
        "    print(\"At least one condition is True\")\n",
        "\n",
        "if not (x > 5):\n",
        "    print(\"Condition is False after using not\")\n",
        "else:\n",
        "    print(\"Condition remains True\")\n"
      ],
      "metadata": {
        "colab": {
          "base_uri": "https://localhost:8080/"
        },
        "id": "LqXpwQRzeq8P",
        "outputId": "ecaf9aca-9876-4e65-fd74-d8ea414af440"
      },
      "execution_count": 23,
      "outputs": [
        {
          "output_type": "stream",
          "name": "stdout",
          "text": [
            "Both conditions are True\n",
            "At least one condition is True\n",
            "Condition remains True\n"
          ]
        }
      ]
    },
    {
      "cell_type": "markdown",
      "source": [
        "Question 9: Write a Python program to convert user input from string to integer, float, and boolean types."
      ],
      "metadata": {
        "id": "F5tZa8J4fvyt"
      }
    },
    {
      "cell_type": "code",
      "source": [
        "# Taking user input as a string\n",
        "user_input = input(\"Enter a value: \")\n",
        "\n",
        "# Converting to different types\n",
        "int_value = int(user_input)      # Convert to integer\n",
        "float_value = float(user_input)  # Convert to float\n",
        "bool_value = bool(user_input)    # Convert to boolean\n",
        "\n",
        "# Displaying the results\n",
        "print(\"Integer:\", int_value)\n",
        "print(\"Float:\", float_value)\n",
        "print(\"Boolean:\", bool_value)\n"
      ],
      "metadata": {
        "colab": {
          "base_uri": "https://localhost:8080/"
        },
        "id": "i9TryVnDfp3F",
        "outputId": "7e2f08db-3a82-4e92-ff50-1bac4562efdc"
      },
      "execution_count": 24,
      "outputs": [
        {
          "output_type": "stream",
          "name": "stdout",
          "text": [
            "Enter a value: 5\n",
            "Integer: 5\n",
            "Float: 5.0\n",
            "Boolean: True\n"
          ]
        }
      ]
    },
    {
      "cell_type": "markdown",
      "source": [
        "Question 10: Write code to demonstrate type casting with list elements."
      ],
      "metadata": {
        "id": "6Nt3dY_igAJW"
      }
    },
    {
      "cell_type": "code",
      "source": [
        "# List with string numbers\n",
        "str_list = [\"10\", \"20\", \"30\", \"40\"]\n",
        "\n",
        "# Converting to integers\n",
        "int_list = [int(i) for i in str_list]\n",
        "\n",
        "# Converting to floats\n",
        "float_list = [float(i) for i in str_list]\n",
        "\n",
        "# Converting to booleans\n",
        "bool_list = [bool(i) for i in str_list]\n",
        "\n",
        "# Printing results\n",
        "print(\"Original list (strings):\", str_list)\n",
        "print(\"Converted to integers:\", int_list)\n",
        "print(\"Converted to floats:\", float_list)\n",
        "print(\"Converted to booleans:\", bool_list)\n"
      ],
      "metadata": {
        "colab": {
          "base_uri": "https://localhost:8080/"
        },
        "id": "pC-OG5Dwf6PP",
        "outputId": "ebc70a5c-6e15-46c7-f3a9-67d697182724"
      },
      "execution_count": 27,
      "outputs": [
        {
          "output_type": "stream",
          "name": "stdout",
          "text": [
            "Original list (strings): ['10', '20', '30', '40']\n",
            "Converted to integers: [10, 20, 30, 40]\n",
            "Converted to floats: [10.0, 20.0, 30.0, 40.0]\n",
            "Converted to booleans: [True, True, True, True]\n"
          ]
        }
      ]
    },
    {
      "cell_type": "markdown",
      "source": [
        "Question 11: Write a program that checks if a number is positive, negative, or zero."
      ],
      "metadata": {
        "id": "qI0siGHZghvc"
      }
    },
    {
      "cell_type": "code",
      "source": [
        "# Taking user input\n",
        "num = int(input(\"Enter a number: \"))\n",
        "\n",
        "# Checking conditions\n",
        "if num > 0:\n",
        "    print(\"The number is positive.\")\n",
        "elif num < 0:\n",
        "    print(\"The number is negative.\")\n",
        "else:\n",
        "    print(\"The number is zero.\")\n"
      ],
      "metadata": {
        "colab": {
          "base_uri": "https://localhost:8080/"
        },
        "id": "PJgBvSSUgL_A",
        "outputId": "a933025e-c1b8-4a8b-8a01-8aa1fc9c59c7"
      },
      "execution_count": 28,
      "outputs": [
        {
          "output_type": "stream",
          "name": "stdout",
          "text": [
            "Enter a number: 5\n",
            "The number is positive.\n"
          ]
        }
      ]
    },
    {
      "cell_type": "markdown",
      "source": [
        "Question 12: Write a for loop to print numbers from 1 to 10."
      ],
      "metadata": {
        "id": "7hTVFPdJgtFk"
      }
    },
    {
      "cell_type": "code",
      "source": [
        "for i in range(1,11):\n",
        "  print(i)"
      ],
      "metadata": {
        "colab": {
          "base_uri": "https://localhost:8080/"
        },
        "id": "M2KliYPWgpad",
        "outputId": "22cf4c99-ec80-48fa-a396-56bf69c77698"
      },
      "execution_count": 29,
      "outputs": [
        {
          "output_type": "stream",
          "name": "stdout",
          "text": [
            "1\n",
            "2\n",
            "3\n",
            "4\n",
            "5\n",
            "6\n",
            "7\n",
            "8\n",
            "9\n",
            "10\n"
          ]
        }
      ]
    },
    {
      "cell_type": "markdown",
      "source": [
        "Question 13: Write a Python program to find the sum of all even numbers between 1 and 50."
      ],
      "metadata": {
        "id": "N9t_qIW-g5qn"
      }
    },
    {
      "cell_type": "code",
      "source": [
        "sum = 0\n",
        "for i in range(1, 51):\n",
        "  if i % 2 == 0:\n",
        "    sum += i\n",
        "print(sum)"
      ],
      "metadata": {
        "colab": {
          "base_uri": "https://localhost:8080/"
        },
        "id": "AQPbkYXFgzDx",
        "outputId": "8058d877-0576-40b5-a949-43f6ab723dd0"
      },
      "execution_count": 35,
      "outputs": [
        {
          "output_type": "stream",
          "name": "stdout",
          "text": [
            "650\n"
          ]
        }
      ]
    },
    {
      "cell_type": "markdown",
      "source": [
        "Question 14: Write a program to reverse a string using a while loop."
      ],
      "metadata": {
        "id": "JWoEgJwahbmv"
      }
    },
    {
      "cell_type": "code",
      "source": [
        "string = input()\n",
        "i = 1\n",
        "reversed_string = \"\"\n",
        "while i <= len(string):\n",
        "  reversed_string += string[-i]\n",
        "  i = i+1\n",
        "print(reversed_string)"
      ],
      "metadata": {
        "colab": {
          "base_uri": "https://localhost:8080/"
        },
        "id": "jCqcvBYAhGsK",
        "outputId": "1625e1b0-48e4-4834-e7e4-679c2a9e25d9"
      },
      "execution_count": 6,
      "outputs": [
        {
          "output_type": "stream",
          "name": "stdout",
          "text": [
            "potato\n",
            "otatop\n"
          ]
        }
      ]
    },
    {
      "cell_type": "markdown",
      "source": [
        "Question 15:  Write a Python program to calculate the factorial of a number provided by the user using a while loop."
      ],
      "metadata": {
        "id": "D3XyCd6_irOh"
      }
    },
    {
      "cell_type": "code",
      "source": [
        "input_num = int(input())\n",
        "if input_num == 0:\n",
        "  print(1)\n",
        "else:\n",
        "  factorial = 1\n",
        "  while input_num >= 1:\n",
        "    factorial *= input_num\n",
        "    input_num -= 1\n",
        "  print(factorial)"
      ],
      "metadata": {
        "colab": {
          "base_uri": "https://localhost:8080/"
        },
        "id": "bUZi395XhX2N",
        "outputId": "0045c95e-8bb9-4750-890b-7700681b69f4"
      },
      "execution_count": 6,
      "outputs": [
        {
          "output_type": "stream",
          "name": "stdout",
          "text": [
            "7\n",
            "5040\n"
          ]
        }
      ]
    },
    {
      "cell_type": "code",
      "source": [],
      "metadata": {
        "id": "Yvd5KJnikXWl"
      },
      "execution_count": 2,
      "outputs": []
    }
  ]
}